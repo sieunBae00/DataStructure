{
 "cells": [
  {
   "cell_type": "code",
   "execution_count": 1,
   "id": "2271e498-3c86-468d-bb3d-50938b58bd1d",
   "metadata": {},
   "outputs": [],
   "source": [
    "# 1. LeetCode 225\n",
    "\n",
    "from collections import deque\n",
    "\n",
    "class MyStack:\n",
    "\n",
    "    def __init__(self):\n",
    "        self.queue1 = deque()\n",
    "        self.queue2 = deque()\n",
    "\n",
    "    def push(self, x: int) -> None:\n",
    "        self.queue1.append(x)\n",
    "\n",
    "    def pop(self) -> int:\n",
    "        while len(self.queue1) > 1:\n",
    "            self.queue2.append(self.queue1.popleft())\n",
    "        \n",
    "        res = self.queue1.popleft()\n",
    "        \n",
    "        self.queue1, self.queue2 = self.queue2, self.queue1\n",
    "        \n",
    "        return res\n",
    "\n",
    "    def top(self) -> int:\n",
    "        while len(self.queue1) > 1:\n",
    "            self.queue2.append(self.queue1.popleft())\n",
    "        \n",
    "        res = self.queue1.popleft()\n",
    "        self.queue2.append(res)\n",
    "        \n",
    "        self.queue1, self.queue2 = self.queue2, self.queue1\n",
    "        \n",
    "        return res\n",
    "\n",
    "    def empty(self) -> bool:\n",
    "        return not self.queue1\n"
   ]
  },
  {
   "cell_type": "code",
   "execution_count": 2,
   "id": "3d087297-af18-47ed-9424-947e5cc5e671",
   "metadata": {},
   "outputs": [],
   "source": [
    "# 2. LeetCode 232\n",
    "\n",
    "class MyQueue:\n",
    "\n",
    "    def __init__(self):\n",
    "        self.stack1 = []  \n",
    "        self.stack2 = []  \n",
    "\n",
    "    def push(self, x: int) -> None:\n",
    "        self.stack1.append(x)\n",
    "\n",
    "    def pop(self) -> int:\n",
    "        if not self.stack2:\n",
    "            while self.stack1:\n",
    "                self.stack2.append(self.stack1.pop())\n",
    "        return self.stack2.pop()\n",
    "\n",
    "    def peek(self) -> int:\n",
    "        if not self.stack2:\n",
    "            while self.stack1:\n",
    "                self.stack2.append(self.stack1.pop())\n",
    "        return self.stack2[-1]\n",
    "\n",
    "    def empty(self) -> bool:\n",
    "        return not self.stack1 and not self.stack2\n"
   ]
  },
  {
   "cell_type": "code",
   "execution_count": 6,
   "id": "0ada9705-2d38-4540-8e51-a6988af30598",
   "metadata": {},
   "outputs": [],
   "source": [
    "# 3. Chapter 7\n",
    "\n",
    "## 3.1 \n",
    "class ListQueue:\n",
    "    def __init__(self):\n",
    "        self.__queue = []\n",
    "\n",
    "    def enqueue(self, x):\n",
    "        self.__queue.insert(0, x)\n",
    "\n",
    "    def dequeue(self):\n",
    "        self.__queue.pop(len(self.__queue)-1)\n",
    "\n",
    "    def front(self):\n",
    "        return self.__queue[len(self.__queue)-1]\n",
    "\n",
    "    def isEmpty(self)->bool:\n",
    "        return len(self.__queue) == 0\n",
    "\n",
    "    def dequeueAll(self):\n",
    "        self.__queue.clear()\n",
    "\n",
    "    def __str__(self):\n",
    "        return str(self.__queue)"
   ]
  },
  {
   "cell_type": "code",
   "execution_count": 14,
   "id": "bb7409b7-65e4-43c9-a2c2-ad252bcb2543",
   "metadata": {},
   "outputs": [],
   "source": [
    "## 3.2\n",
    "def checkSt(s):\n",
    "    q = ListQueue()\n",
    "\n",
    "    i = 0\n",
    "\n",
    "    while(s[i] != '$'):\n",
    "        q.enqueue(s[i])\n",
    "        i += 1\n",
    "    i += 1\n",
    "\n",
    "    while(i <= len(s)-1):\n",
    "        if(q.front() != s[i]):\n",
    "            return False\n",
    "        else:\n",
    "            i += 1\n",
    "            q.dequeue()\n",
    "    return True"
   ]
  },
  {
   "cell_type": "code",
   "execution_count": 15,
   "id": "c690fa98-3059-4931-9e2e-59179b262979",
   "metadata": {},
   "outputs": [
    {
     "ename": "NameError",
     "evalue": "name 'a' is not defined",
     "output_type": "error",
     "traceback": [
      "\u001b[1;31m---------------------------------------------------------------------------\u001b[0m",
      "\u001b[1;31mNameError\u001b[0m                                 Traceback (most recent call last)",
      "Cell \u001b[1;32mIn[15], line 5\u001b[0m\n\u001b[0;32m      2\u001b[0m \u001b[38;5;28;01mdef\u001b[39;00m\u001b[38;5;250m \u001b[39m\u001b[38;5;21msizecheck\u001b[39m(\u001b[38;5;28mself\u001b[39m):\n\u001b[0;32m      3\u001b[0m     \u001b[38;5;28;01mreturn\u001b[39;00m \u001b[38;5;28mself\u001b[39m\u001b[38;5;241m.\u001b[39m__queue\u001b[38;5;241m.\u001b[39msize()\n\u001b[1;32m----> 5\u001b[0m \u001b[38;5;28;01mfor\u001b[39;00m i \u001b[38;5;129;01min\u001b[39;00m \u001b[38;5;28mrange\u001b[39m(\u001b[43ma\u001b[49m\u001b[38;5;241m.\u001b[39msizecheck()):\n\u001b[0;32m      6\u001b[0m     b\u001b[38;5;241m.\u001b[39menqueue(a\u001b[38;5;241m.\u001b[39mfront())\n",
      "\u001b[1;31mNameError\u001b[0m: name 'a' is not defined"
     ]
    }
   ],
   "source": [
    "## 3.3\n",
    "def sizecheck(self):\n",
    "    return self.__queue.size()\n",
    "\n",
    "for i in range(a.sizecheck()):\n",
    "    b.enqueue(a.front())"
   ]
  },
  {
   "cell_type": "code",
   "execution_count": 13,
   "id": "cda9caae-978f-40a8-8fd3-0933da51b926",
   "metadata": {},
   "outputs": [],
   "source": [
    "## 3.4\n",
    "#q1, q2 : 큐\n",
    "\n",
    "def push(x):\n",
    "    q1.push(x)\n",
    "\n",
    "def pop():\n",
    "    for i in range(q1.size()-1):\n",
    "        q2.push(q1.peek())\n",
    "        q1.pop()\n",
    "\n",
    "    x = q1.peek()\n",
    "    q1.pop()\n",
    "\n",
    "    swap(q1, q2)\n",
    "\n",
    "    return x"
   ]
  },
  {
   "cell_type": "code",
   "execution_count": 9,
   "id": "61b18215-ce06-4fec-bf27-6c02a6fdea36",
   "metadata": {},
   "outputs": [],
   "source": [
    "## 3.5\n",
    "#s1, s2 : 스택\n",
    "def enqueue(self, x): \n",
    "    s1.push(x)\n",
    "    \n",
    "def dequeue(self): \n",
    "    while(s1.size()!=1):\n",
    "        s2.push(s1.top())\n",
    "        s1.pop()\n",
    "        \n",
    "    x = s1.top()\n",
    "    s1.pop()\n",
    "\n",
    "    while(s2.size()!=0):\n",
    "        s1.push(s2.top())\n",
    "        s2.pop()\n",
    "\n",
    "    return x;"
   ]
  },
  {
   "cell_type": "code",
   "execution_count": 10,
   "id": "ea155806-1004-4c7b-a707-f2e4839e34e6",
   "metadata": {},
   "outputs": [],
   "source": [
    "## 3.6\n",
    "#enqueue()의 수행 시간 : O(1) (입력의 크기와 무관하게 일정)\n",
    "\n",
    "#dequeue()의 수행 시간 : O(1) (입력의 크기와 무관하게 일정)"
   ]
  },
  {
   "cell_type": "code",
   "execution_count": 11,
   "id": "b16db1e0-a08c-4da8-a7af-2646a4c87583",
   "metadata": {},
   "outputs": [],
   "source": [
    "## 3.7\n",
    "#enqueue()의 수행 시간 : O(n) (맨 뒤에서 enqueue() 할 경우 n)\n",
    "\n",
    "#dequeue()의 수행 시간 : O(n) (맨 앞에서 dequeue() 할 경우 n"
   ]
  },
  {
   "cell_type": "code",
   "execution_count": 12,
   "id": "2e2a7720-1caa-4e54-bdb0-52b587d980da",
   "metadata": {},
   "outputs": [],
   "source": [
    "## 3.8\n",
    "def enqueue_rev(self, x):\n",
    "    self.__queue.insert(0,x)\n",
    "\n",
    "def dequeue_rev(self):\n",
    "    self.__queue.pop()\n",
    "\n",
    "#를 추가"
   ]
  }
 ],
 "metadata": {
  "kernelspec": {
   "display_name": "Python 3 (ipykernel)",
   "language": "python",
   "name": "python3"
  },
  "language_info": {
   "codemirror_mode": {
    "name": "ipython",
    "version": 3
   },
   "file_extension": ".py",
   "mimetype": "text/x-python",
   "name": "python",
   "nbconvert_exporter": "python",
   "pygments_lexer": "ipython3",
   "version": "3.9.12"
  }
 },
 "nbformat": 4,
 "nbformat_minor": 5
}
