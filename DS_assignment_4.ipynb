{
  "cells": [
    {
      "cell_type": "markdown",
      "id": "e0e11fee-d8d7-44c7-8573-fb3c3a815fa2",
      "metadata": {
        "id": "e0e11fee-d8d7-44c7-8573-fb3c3a815fa2"
      },
      "source": [
        "# 1. LeetCode 225"
      ]
    },
    {
      "cell_type": "code",
      "source": [
        "import queue\n",
        "\n",
        "class MyStack:\n",
        "\n",
        "    def __init__(self):\n",
        "        self.queue1 = queue.Queue()\n",
        "        self.queue2 = queue.Queue()\n",
        "\n",
        "    def push(self, x: int) -> None:\n",
        "        self.queue1.put(x)\n",
        "\n",
        "    def pop(self) -> int:\n",
        "        while self.queue1.qsize() > 1:\n",
        "            self.queue2.put(self.queue1.get())\n",
        "\n",
        "        res = self.queue1.get()\n",
        "\n",
        "        self.queue1, self.queue2 = self.queue2, self.queue1\n",
        "\n",
        "        return res\n",
        "\n",
        "    def top(self) -> int:\n",
        "        while self.queue1.qsize() > 1:\n",
        "            self.queue2.put(self.queue1.get())\n",
        "\n",
        "        res = self.queue1.get()\n",
        "        self.queue2.put(res)\n",
        "\n",
        "        self.queue1, self.queue2 = self.queue2, self.queue1\n",
        "\n",
        "        return res\n",
        "\n",
        "    def empty(self) -> bool:\n",
        "        return self.queue1.empty()\n"
      ],
      "metadata": {
        "id": "j4twFvnOEsV5"
      },
      "id": "j4twFvnOEsV5",
      "execution_count": 12,
      "outputs": []
    },
    {
      "cell_type": "markdown",
      "id": "46be9f6d-f391-4812-b06f-0516150b108e",
      "metadata": {
        "id": "46be9f6d-f391-4812-b06f-0516150b108e"
      },
      "source": [
        "# 2. LeetCode 232"
      ]
    },
    {
      "cell_type": "code",
      "source": [
        "class MyQueue:\n",
        "    def __init__(self):\n",
        "        self.stack1 = []\n",
        "        self.stack2 = []\n",
        "\n",
        "    def push(self, x: int) -> None:\n",
        "        self.stack1.append(x)\n",
        "\n",
        "    def pop(self) -> int:\n",
        "        if not self.stack2:\n",
        "            while self.stack1:\n",
        "                self.stack2.append(self.stack1.pop())\n",
        "        return self.stack2.pop()\n",
        "\n",
        "    def peek(self) -> int:\n",
        "        if not self.stack2:\n",
        "            while self.stack1:\n",
        "                self.stack2.append(self.stack1.pop())\n",
        "        return self.stack2[-1]\n",
        "\n",
        "    def empty(self) -> bool:\n",
        "        return not self.stack1 and not self.stack2"
      ],
      "metadata": {
        "id": "FOVjLa43FjlV"
      },
      "id": "FOVjLa43FjlV",
      "execution_count": 3,
      "outputs": []
    },
    {
      "cell_type": "markdown",
      "id": "4d8eda51-7a61-4958-bf7a-2c6fd83d417e",
      "metadata": {
        "id": "4d8eda51-7a61-4958-bf7a-2c6fd83d417e"
      },
      "source": [
        "# 3. Chapter 7\n",
        "\n",
        "## 3.1"
      ]
    },
    {
      "cell_type": "code",
      "source": [
        "class ListQueue:\n",
        "  def init(self): self.__queue = []\n",
        "\n",
        "  def enqueue(self, x):\n",
        "      self.__queue.insert(0, x)\n",
        "\n",
        "  def dequeue(self):\n",
        "      self.__queue.pop(len(self.__queue)-1)\n",
        "\n",
        "  def front(self):\n",
        "      return self.__queue[len(self.__queue)-1]\n",
        "\n",
        "  def isEmpty(self)->bool:\n",
        "      return len(self.__queue) == 0\n",
        "\n",
        "  def dequeueAll(self):\n",
        "      self.__queue.clear()\n",
        "\n",
        "  def __str__(self):\n",
        "      return str(self.__queue)"
      ],
      "metadata": {
        "id": "WoW-eubhF55i"
      },
      "id": "WoW-eubhF55i",
      "execution_count": 4,
      "outputs": []
    },
    {
      "cell_type": "markdown",
      "id": "bc9472f8-92b4-4d3a-8fcf-fb6115bc3424",
      "metadata": {
        "id": "bc9472f8-92b4-4d3a-8fcf-fb6115bc3424"
      },
      "source": [
        "## 3.2"
      ]
    },
    {
      "cell_type": "code",
      "source": [
        "def checkSt(s):\n",
        "  q = ListQueue()\n",
        "  i = 0\n",
        "\n",
        "  while(s[i] != '$'):\n",
        "    q.enqueue(s[i])\n",
        "    i += 1\n",
        "  i += 1\n",
        "\n",
        "  while(i <= len(s)-1):\n",
        "    if(q.front() != s[i]):\n",
        "      return False\n",
        "    else:\n",
        "      i += 1\n",
        "      q.dequeue()\n",
        "  return True\n"
      ],
      "metadata": {
        "id": "ScWJsVHOGLRQ"
      },
      "id": "ScWJsVHOGLRQ",
      "execution_count": 6,
      "outputs": []
    },
    {
      "cell_type": "markdown",
      "id": "1d8ed156-3f09-488f-a013-f69e8fddcc48",
      "metadata": {
        "id": "1d8ed156-3f09-488f-a013-f69e8fddcc48"
      },
      "source": [
        "## 3.3"
      ]
    },
    {
      "cell_type": "code",
      "source": [
        "def sizecheck(self):\n",
        "  return self.__queue.size()\n",
        "\n",
        "  for i in range(a.sizecheck()):\n",
        "    b.enqueue(a.front())\n"
      ],
      "metadata": {
        "id": "35qcrZTGGns6"
      },
      "id": "35qcrZTGGns6",
      "execution_count": 7,
      "outputs": []
    },
    {
      "cell_type": "markdown",
      "id": "bc89d46d-5a86-4bcb-aca3-67ac4aa85442",
      "metadata": {
        "id": "bc89d46d-5a86-4bcb-aca3-67ac4aa85442"
      },
      "source": [
        "## 3.4"
      ]
    },
    {
      "cell_type": "code",
      "source": [
        "    import queue\n",
        "\n",
        "    q1 = queue.Queue()\n",
        "    q2 = queue.Queue()\n",
        "\n",
        "    def push(self, x: int) -> None:\n",
        "        self.queue1.put(x)\n",
        "\n",
        "    def pop(self) -> int:\n",
        "        while self.queue1.qsize() > 1:\n",
        "            self.queue2.put(self.queue1.get())\n",
        "\n",
        "        res = self.queue1.get()\n",
        "\n",
        "        self.queue1, self.queue2 = self.queue2, self.queue1\n",
        "\n",
        "        return res"
      ],
      "metadata": {
        "id": "g93YwaoYGxR1"
      },
      "id": "g93YwaoYGxR1",
      "execution_count": 13,
      "outputs": []
    },
    {
      "cell_type": "markdown",
      "id": "0ef1cc7e-6696-491e-b46c-61104a2b2256",
      "metadata": {
        "id": "0ef1cc7e-6696-491e-b46c-61104a2b2256"
      },
      "source": [
        "## 3.5"
      ]
    },
    {
      "cell_type": "code",
      "source": [
        "#s1, s2 : 스택\n",
        "def enqueue(self, x):\n",
        "    s1.push(x)\n",
        "\n",
        "def dequeue(self):\n",
        "    while(s1.size()!=1):\n",
        "        s2.push(s1.top())\n",
        "        s1.pop()\n",
        "\n",
        "    x = s1.top()\n",
        "    s1.pop()\n",
        "\n",
        "    while(s2.size()!=0):\n",
        "        s1.push(s2.top())\n",
        "        s2.pop()\n",
        "\n",
        "    return x;"
      ],
      "metadata": {
        "id": "awIrVFBrHKuN"
      },
      "id": "awIrVFBrHKuN",
      "execution_count": 9,
      "outputs": []
    },
    {
      "cell_type": "markdown",
      "id": "7ff61e4f-fffd-44e3-946a-8e283b7b5577",
      "metadata": {
        "id": "7ff61e4f-fffd-44e3-946a-8e283b7b5577"
      },
      "source": [
        "## 3.6\n",
        "enqueue()의 수행 시간 : O(1) (입력의 크기와 무관하게 일정)\n",
        "\n",
        "dequeue()의 수행 시간 : O(1) (입력의 크기와 무관하게 일정)"
      ]
    },
    {
      "cell_type": "markdown",
      "id": "e05446ae-5d33-4b1b-93f0-2e60f0dea38d",
      "metadata": {
        "id": "e05446ae-5d33-4b1b-93f0-2e60f0dea38d"
      },
      "source": [
        "## 3.7\n",
        "enqueue()의 수행 시간 : O(n) (맨 뒤에서 enqueue() 할 경우 n)\n",
        "\n",
        "dequeue()의 수행 시간 : O(n) (맨 앞에서 dequeue() 할 경우 n"
      ]
    },
    {
      "cell_type": "markdown",
      "id": "619410ee-b557-4da3-9e7f-ec0aac8b1fa1",
      "metadata": {
        "id": "619410ee-b557-4da3-9e7f-ec0aac8b1fa1"
      },
      "source": [
        "## 3.8\n",
        "아래 코드를 추가한다."
      ]
    },
    {
      "cell_type": "code",
      "source": [
        "def enqueue_rev(self, x):\n",
        "    self.__queue.insert(0,x)\n",
        "\n",
        "def dequeue_rev(self):\n",
        "    self.__queue.pop()"
      ],
      "metadata": {
        "id": "AIcbUdycHRq5"
      },
      "id": "AIcbUdycHRq5",
      "execution_count": 10,
      "outputs": []
    }
  ],
  "metadata": {
    "kernelspec": {
      "display_name": "Python 3 (ipykernel)",
      "language": "python",
      "name": "python3"
    },
    "language_info": {
      "codemirror_mode": {
        "name": "ipython",
        "version": 3
      },
      "file_extension": ".py",
      "mimetype": "text/x-python",
      "name": "python",
      "nbconvert_exporter": "python",
      "pygments_lexer": "ipython3",
      "version": "3.9.12"
    },
    "colab": {
      "provenance": []
    }
  },
  "nbformat": 4,
  "nbformat_minor": 5
}